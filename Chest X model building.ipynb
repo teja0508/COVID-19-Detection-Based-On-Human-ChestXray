{
 "cells": [
  {
   "cell_type": "markdown",
   "metadata": {},
   "source": [
    "# Building automated chest radiograph interpretation application\n",
    "\n",
    "### by Phuong T.M. Chu\n",
    "<p align=\"center\">\n",
    "<img width=\"360\" height=\"300\" src=\"https://upload.wikimedia.org/wikipedia/commons/thumb/7/72/Projectional_rendering_of_CT_scan_of_thorax_%28thumbnail%29.gif/358px-Projectional_rendering_of_CT_scan_of_thorax_%28thumbnail%29.gif\">\n",
    "</p>"
   ]
  },
  {
   "cell_type": "code",
   "execution_count": 1,
   "metadata": {},
   "outputs": [
    {
     "data": {
      "text/plain": [
       "'2.0.0-rc1'"
      ]
     },
     "execution_count": 1,
     "metadata": {},
     "output_type": "execute_result"
    }
   ],
   "source": [
    "#!pip install tensorflow-gpu==2.0.0-rc1\n",
    "import tensorflow as tf\n",
    "tf.__version__"
   ]
  },
  {
   "cell_type": "code",
   "execution_count": 2,
   "metadata": {},
   "outputs": [],
   "source": [
    "#from tensorflow import keras\n",
    "\n",
    "# Working with directory library\n",
    "from os import path, listdir\n",
    "from os.path import isdir\n",
    "\n",
    "# Image visualization\n",
    "import matplotlib.pyplot as plt\n",
    "%matplotlib inline\n",
    "\n",
    "import warnings\n",
    "warnings.filterwarnings('ignore')"
   ]
  },
  {
   "cell_type": "code",
   "execution_count": 3,
   "metadata": {},
   "outputs": [],
   "source": [
    "import numpy as np\n",
    "import pandas as pd\n",
    "import seaborn as sns\n",
    "import shutil # copy, move file\n",
    "import os # miscellaneous operation system interfaces\n",
    "import pathlib\n",
    "import random\n",
    "import cv2\n",
    "from PIL import Image"
   ]
  },
  {
   "cell_type": "code",
   "execution_count": 4,
   "metadata": {},
   "outputs": [
    {
     "data": {
      "text/html": [
       "<div>\n",
       "<style scoped>\n",
       "    .dataframe tbody tr th:only-of-type {\n",
       "        vertical-align: middle;\n",
       "    }\n",
       "\n",
       "    .dataframe tbody tr th {\n",
       "        vertical-align: top;\n",
       "    }\n",
       "\n",
       "    .dataframe thead th {\n",
       "        text-align: right;\n",
       "    }\n",
       "</style>\n",
       "<table border=\"1\" class=\"dataframe\">\n",
       "  <thead>\n",
       "    <tr style=\"text-align: right;\">\n",
       "      <th></th>\n",
       "      <th>Path</th>\n",
       "      <th>No Finding</th>\n",
       "      <th>Enlarged Cardiomediastinum</th>\n",
       "      <th>Cardiomegaly</th>\n",
       "      <th>Lung Opacity</th>\n",
       "      <th>Lung Lesion</th>\n",
       "      <th>Edema</th>\n",
       "      <th>Consolidation</th>\n",
       "      <th>Pneumonia</th>\n",
       "      <th>Atelectasis</th>\n",
       "      <th>Pneumothorax</th>\n",
       "      <th>Pleural Effusion</th>\n",
       "      <th>Pleural Other</th>\n",
       "      <th>Fracture</th>\n",
       "      <th>Support Devices</th>\n",
       "    </tr>\n",
       "  </thead>\n",
       "  <tbody>\n",
       "    <tr>\n",
       "      <td>0</td>\n",
       "      <td>CheXpert-v1.0-small/train/patient00001/study1/...</td>\n",
       "      <td>1.0</td>\n",
       "      <td>0.0</td>\n",
       "      <td>0.0</td>\n",
       "      <td>0.0</td>\n",
       "      <td>0.0</td>\n",
       "      <td>0.0</td>\n",
       "      <td>0.0</td>\n",
       "      <td>0.0</td>\n",
       "      <td>0.0</td>\n",
       "      <td>0.0</td>\n",
       "      <td>0.0</td>\n",
       "      <td>0.0</td>\n",
       "      <td>0.0</td>\n",
       "      <td>1.0</td>\n",
       "    </tr>\n",
       "    <tr>\n",
       "      <td>1</td>\n",
       "      <td>CheXpert-v1.0-small/train/patient00002/study2/...</td>\n",
       "      <td>0.0</td>\n",
       "      <td>0.0</td>\n",
       "      <td>-1.0</td>\n",
       "      <td>1.0</td>\n",
       "      <td>0.0</td>\n",
       "      <td>-1.0</td>\n",
       "      <td>-1.0</td>\n",
       "      <td>0.0</td>\n",
       "      <td>-1.0</td>\n",
       "      <td>0.0</td>\n",
       "      <td>-1.0</td>\n",
       "      <td>0.0</td>\n",
       "      <td>1.0</td>\n",
       "      <td>0.0</td>\n",
       "    </tr>\n",
       "    <tr>\n",
       "      <td>2</td>\n",
       "      <td>CheXpert-v1.0-small/train/patient00002/study1/...</td>\n",
       "      <td>0.0</td>\n",
       "      <td>0.0</td>\n",
       "      <td>0.0</td>\n",
       "      <td>1.0</td>\n",
       "      <td>0.0</td>\n",
       "      <td>0.0</td>\n",
       "      <td>-1.0</td>\n",
       "      <td>0.0</td>\n",
       "      <td>0.0</td>\n",
       "      <td>0.0</td>\n",
       "      <td>0.0</td>\n",
       "      <td>0.0</td>\n",
       "      <td>1.0</td>\n",
       "      <td>0.0</td>\n",
       "    </tr>\n",
       "    <tr>\n",
       "      <td>3</td>\n",
       "      <td>CheXpert-v1.0-small/train/patient00002/study1/...</td>\n",
       "      <td>0.0</td>\n",
       "      <td>0.0</td>\n",
       "      <td>0.0</td>\n",
       "      <td>1.0</td>\n",
       "      <td>0.0</td>\n",
       "      <td>0.0</td>\n",
       "      <td>-1.0</td>\n",
       "      <td>0.0</td>\n",
       "      <td>0.0</td>\n",
       "      <td>0.0</td>\n",
       "      <td>0.0</td>\n",
       "      <td>0.0</td>\n",
       "      <td>1.0</td>\n",
       "      <td>0.0</td>\n",
       "    </tr>\n",
       "    <tr>\n",
       "      <td>4</td>\n",
       "      <td>CheXpert-v1.0-small/train/patient00003/study1/...</td>\n",
       "      <td>0.0</td>\n",
       "      <td>0.0</td>\n",
       "      <td>0.0</td>\n",
       "      <td>0.0</td>\n",
       "      <td>0.0</td>\n",
       "      <td>1.0</td>\n",
       "      <td>0.0</td>\n",
       "      <td>0.0</td>\n",
       "      <td>0.0</td>\n",
       "      <td>0.0</td>\n",
       "      <td>0.0</td>\n",
       "      <td>0.0</td>\n",
       "      <td>0.0</td>\n",
       "      <td>0.0</td>\n",
       "    </tr>\n",
       "  </tbody>\n",
       "</table>\n",
       "</div>"
      ],
      "text/plain": [
       "                                                Path  No Finding  \\\n",
       "0  CheXpert-v1.0-small/train/patient00001/study1/...         1.0   \n",
       "1  CheXpert-v1.0-small/train/patient00002/study2/...         0.0   \n",
       "2  CheXpert-v1.0-small/train/patient00002/study1/...         0.0   \n",
       "3  CheXpert-v1.0-small/train/patient00002/study1/...         0.0   \n",
       "4  CheXpert-v1.0-small/train/patient00003/study1/...         0.0   \n",
       "\n",
       "   Enlarged Cardiomediastinum  Cardiomegaly  Lung Opacity  Lung Lesion  Edema  \\\n",
       "0                         0.0           0.0           0.0          0.0    0.0   \n",
       "1                         0.0          -1.0           1.0          0.0   -1.0   \n",
       "2                         0.0           0.0           1.0          0.0    0.0   \n",
       "3                         0.0           0.0           1.0          0.0    0.0   \n",
       "4                         0.0           0.0           0.0          0.0    1.0   \n",
       "\n",
       "   Consolidation  Pneumonia  Atelectasis  Pneumothorax  Pleural Effusion  \\\n",
       "0            0.0        0.0          0.0           0.0               0.0   \n",
       "1           -1.0        0.0         -1.0           0.0              -1.0   \n",
       "2           -1.0        0.0          0.0           0.0               0.0   \n",
       "3           -1.0        0.0          0.0           0.0               0.0   \n",
       "4            0.0        0.0          0.0           0.0               0.0   \n",
       "\n",
       "   Pleural Other  Fracture  Support Devices  \n",
       "0            0.0       0.0              1.0  \n",
       "1            0.0       1.0              0.0  \n",
       "2            0.0       1.0              0.0  \n",
       "3            0.0       1.0              0.0  \n",
       "4            0.0       0.0              0.0  "
      ]
     },
     "execution_count": 4,
     "metadata": {},
     "output_type": "execute_result"
    }
   ],
   "source": [
    "label = pd.read_csv(\"./CheXpert-v1.0-small/train.csv\")\n",
    "label = label.fillna(0)\n",
    "label = label.drop(columns =['Sex','Age','Frontal/Lateral','AP/PA'])\n",
    "label.head()"
   ]
  },
  {
   "cell_type": "markdown",
   "metadata": {},
   "source": [
    "### Uncertainty Approaches\n",
    "\n",
    "The CheXpert paper outlines several different approaches to mapping using the uncertainty labels in the data:\n",
    "\n",
    "- Ignoring - essentially removing from the calculation in the loss function\n",
    "- Binary mapping - sending uncertain values to either 0 or 1\n",
    "- Prevalence mapping - use the rate of prevelance of the feature as it's target value\n",
    "- Self-training - consider the uncertain values as unlabeled\n",
    "- 3-Class Classification - retain a separate value for uncertain and try to predict it as a class in its own right\n",
    "\n",
    "The binary mapping approaches (U-Ones and U-Zeros) are easiest to implement and so to begin with we take the best option between U-Ones and U-Zeros for each feature."
   ]
  },
  {
   "cell_type": "code",
   "execution_count": 6,
   "metadata": {},
   "outputs": [
    {
     "data": {
      "text/html": [
       "<div>\n",
       "<style scoped>\n",
       "    .dataframe tbody tr th:only-of-type {\n",
       "        vertical-align: middle;\n",
       "    }\n",
       "\n",
       "    .dataframe tbody tr th {\n",
       "        vertical-align: top;\n",
       "    }\n",
       "\n",
       "    .dataframe thead th {\n",
       "        text-align: right;\n",
       "    }\n",
       "</style>\n",
       "<table border=\"1\" class=\"dataframe\">\n",
       "  <thead>\n",
       "    <tr style=\"text-align: right;\">\n",
       "      <th></th>\n",
       "      <th>Path</th>\n",
       "      <th>No Finding</th>\n",
       "      <th>Enlarged Cardiomediastinum</th>\n",
       "      <th>Cardiomegaly</th>\n",
       "      <th>Lung Opacity</th>\n",
       "      <th>Lung Lesion</th>\n",
       "      <th>Edema</th>\n",
       "      <th>Consolidation</th>\n",
       "      <th>Pneumonia</th>\n",
       "      <th>Atelectasis</th>\n",
       "      <th>Pneumothorax</th>\n",
       "      <th>Pleural Effusion</th>\n",
       "      <th>Pleural Other</th>\n",
       "      <th>Fracture</th>\n",
       "      <th>Support Devices</th>\n",
       "    </tr>\n",
       "  </thead>\n",
       "  <tbody>\n",
       "    <tr>\n",
       "      <td>0</td>\n",
       "      <td>CheXpert-v1.0-small/train/patient00001/study1/...</td>\n",
       "      <td>1.0</td>\n",
       "      <td>0.0</td>\n",
       "      <td>0.0</td>\n",
       "      <td>0.0</td>\n",
       "      <td>0.0</td>\n",
       "      <td>0.0</td>\n",
       "      <td>0.0</td>\n",
       "      <td>0.0</td>\n",
       "      <td>0.0</td>\n",
       "      <td>0.0</td>\n",
       "      <td>0.0</td>\n",
       "      <td>0.0</td>\n",
       "      <td>0.0</td>\n",
       "      <td>1.0</td>\n",
       "    </tr>\n",
       "    <tr>\n",
       "      <td>1</td>\n",
       "      <td>CheXpert-v1.0-small/train/patient00002/study2/...</td>\n",
       "      <td>0.0</td>\n",
       "      <td>0.0</td>\n",
       "      <td>0.0</td>\n",
       "      <td>1.0</td>\n",
       "      <td>0.0</td>\n",
       "      <td>1.0</td>\n",
       "      <td>0.0</td>\n",
       "      <td>0.0</td>\n",
       "      <td>1.0</td>\n",
       "      <td>0.0</td>\n",
       "      <td>1.0</td>\n",
       "      <td>0.0</td>\n",
       "      <td>1.0</td>\n",
       "      <td>0.0</td>\n",
       "    </tr>\n",
       "    <tr>\n",
       "      <td>2</td>\n",
       "      <td>CheXpert-v1.0-small/train/patient00002/study1/...</td>\n",
       "      <td>0.0</td>\n",
       "      <td>0.0</td>\n",
       "      <td>0.0</td>\n",
       "      <td>1.0</td>\n",
       "      <td>0.0</td>\n",
       "      <td>0.0</td>\n",
       "      <td>0.0</td>\n",
       "      <td>0.0</td>\n",
       "      <td>0.0</td>\n",
       "      <td>0.0</td>\n",
       "      <td>0.0</td>\n",
       "      <td>0.0</td>\n",
       "      <td>1.0</td>\n",
       "      <td>0.0</td>\n",
       "    </tr>\n",
       "    <tr>\n",
       "      <td>3</td>\n",
       "      <td>CheXpert-v1.0-small/train/patient00002/study1/...</td>\n",
       "      <td>0.0</td>\n",
       "      <td>0.0</td>\n",
       "      <td>0.0</td>\n",
       "      <td>1.0</td>\n",
       "      <td>0.0</td>\n",
       "      <td>0.0</td>\n",
       "      <td>0.0</td>\n",
       "      <td>0.0</td>\n",
       "      <td>0.0</td>\n",
       "      <td>0.0</td>\n",
       "      <td>0.0</td>\n",
       "      <td>0.0</td>\n",
       "      <td>1.0</td>\n",
       "      <td>0.0</td>\n",
       "    </tr>\n",
       "    <tr>\n",
       "      <td>4</td>\n",
       "      <td>CheXpert-v1.0-small/train/patient00003/study1/...</td>\n",
       "      <td>0.0</td>\n",
       "      <td>0.0</td>\n",
       "      <td>0.0</td>\n",
       "      <td>0.0</td>\n",
       "      <td>0.0</td>\n",
       "      <td>1.0</td>\n",
       "      <td>0.0</td>\n",
       "      <td>0.0</td>\n",
       "      <td>0.0</td>\n",
       "      <td>0.0</td>\n",
       "      <td>0.0</td>\n",
       "      <td>0.0</td>\n",
       "      <td>0.0</td>\n",
       "      <td>0.0</td>\n",
       "    </tr>\n",
       "  </tbody>\n",
       "</table>\n",
       "</div>"
      ],
      "text/plain": [
       "                                                Path  No Finding  \\\n",
       "0  CheXpert-v1.0-small/train/patient00001/study1/...         1.0   \n",
       "1  CheXpert-v1.0-small/train/patient00002/study2/...         0.0   \n",
       "2  CheXpert-v1.0-small/train/patient00002/study1/...         0.0   \n",
       "3  CheXpert-v1.0-small/train/patient00002/study1/...         0.0   \n",
       "4  CheXpert-v1.0-small/train/patient00003/study1/...         0.0   \n",
       "\n",
       "   Enlarged Cardiomediastinum  Cardiomegaly  Lung Opacity  Lung Lesion  Edema  \\\n",
       "0                         0.0           0.0           0.0          0.0    0.0   \n",
       "1                         0.0           0.0           1.0          0.0    1.0   \n",
       "2                         0.0           0.0           1.0          0.0    0.0   \n",
       "3                         0.0           0.0           1.0          0.0    0.0   \n",
       "4                         0.0           0.0           0.0          0.0    1.0   \n",
       "\n",
       "   Consolidation  Pneumonia  Atelectasis  Pneumothorax  Pleural Effusion  \\\n",
       "0            0.0        0.0          0.0           0.0               0.0   \n",
       "1            0.0        0.0          1.0           0.0               1.0   \n",
       "2            0.0        0.0          0.0           0.0               0.0   \n",
       "3            0.0        0.0          0.0           0.0               0.0   \n",
       "4            0.0        0.0          0.0           0.0               0.0   \n",
       "\n",
       "   Pleural Other  Fracture  Support Devices  \n",
       "0            0.0       0.0              1.0  \n",
       "1            0.0       1.0              0.0  \n",
       "2            0.0       1.0              0.0  \n",
       "3            0.0       1.0              0.0  \n",
       "4            0.0       0.0              0.0  "
      ]
     },
     "execution_count": 6,
     "metadata": {},
     "output_type": "execute_result"
    }
   ],
   "source": [
    "u_zeros = [\"No Finding\",\"Enlarged Cardiomediastinum\",\"Cardiomegaly\",\n",
    "           \"Consolidation\",\"Pneumonia\",\"Pneumothorax\",\"Pleural Other\"]\n",
    "u_ones = [\"Atelectasis\", \"Edema\",\"Pleural Effusion\",\"Lung Opacity\",\"Lung Lesion\",\n",
    "          \"Fracture\",\"Support Devices\"]\n",
    "\n",
    "for obs0 in u_zeros:\n",
    "    label[obs0][label[obs0] == -1] = 0 # change label -1 to label 0\n",
    "for obs1 in u_ones:\n",
    "    label[obs1][label[obs1] == -1] = 1 # change label -1 to label 0\n",
    "    \n",
    "label.head()"
   ]
  },
  {
   "cell_type": "markdown",
   "metadata": {},
   "source": [
    "## Load  and preprocess images"
   ]
  },
  {
   "cell_type": "code",
   "execution_count": 7,
   "metadata": {},
   "outputs": [],
   "source": [
    "IMAGE_SIZE = (331,331)\n",
    "\n",
    "def preprocess_image(image):\n",
    "    image = tf.image.decode_jpeg(image, channels=3)\n",
    "    image = tf.image.resize(image, IMAGE_SIZE)\n",
    "    image /= 255.0  # normalize to [0,1] range\n",
    "\n",
    "    return image\n",
    "\n",
    "def load_and_preprocess_image(path):\n",
    "    image = tf.io.read_file(path)\n",
    "    return preprocess_image(image)"
   ]
  },
  {
   "cell_type": "code",
   "execution_count": 8,
   "metadata": {},
   "outputs": [],
   "source": [
    "from sklearn.model_selection import train_test_split\n",
    "\n",
    "all_image_labels = []\n",
    "for i, row in label.iterrows():\n",
    "    all_image_labels.append(list(row[1:]))\n",
    "\n",
    "all_image_paths = list(label[\"Path\"])\n",
    "\n",
    "image_count = len(all_image_paths)\n",
    "\n",
    "train_image_paths, test_image_paths, train_image_labels, test_image_labels = train_test_split(all_image_paths, \n",
    "                                                                                              all_image_labels, \n",
    "                                                                                              test_size=0.1, \n",
    "                                                                                              random_state=101)"
   ]
  },
  {
   "cell_type": "code",
   "execution_count": 10,
   "metadata": {},
   "outputs": [],
   "source": [
    "BATCH_SIZE = 32\n",
    "AUTOTUNE = tf.data.experimental.AUTOTUNE"
   ]
  },
  {
   "cell_type": "code",
   "execution_count": 11,
   "metadata": {},
   "outputs": [
    {
     "name": "stdout",
     "output_type": "stream",
     "text": [
      "Found 201072 validated image filenames.\n",
      "Found 22342 validated image filenames.\n"
     ]
    }
   ],
   "source": [
    "from keras_preprocessing.image import ImageDataGenerator\n",
    "\n",
    "observations = ['No Finding','Enlarged Cardiomediastinum', 'Cardiomegaly', 'Lung Opacity','Lung Lesion', \n",
    "                 'Edema', 'Consolidation', 'Pneumonia', 'Atelectasis','Pneumothorax', 'Pleural Effusion', \n",
    "                 'Pleural Other', 'Fracture','Support Devices']\n",
    "\n",
    "train_set = label[label[\"Path\"].isin(train_image_paths)]\n",
    "test_set = label[label[\"Path\"].isin(test_image_paths)]\n",
    "\n",
    "train_datagen = ImageDataGenerator(rescale=1./255, \n",
    "                                    featurewise_std_normalization=True,\n",
    "                                    rotation_range=10,\n",
    "                                    width_shift_range=0.1,\n",
    "                                    height_shift_range=0.1,\n",
    "                                    zoom_range=0.15,\n",
    "                                    shear_range=0.15,\n",
    "                                    horizontal_flip=True,\n",
    "                                    vertical_flip=True,\n",
    "                                    fill_mode=\"nearest\")\n",
    "\n",
    "train_generator = train_datagen.flow_from_dataframe(dataframe=train_set, \n",
    "                                            directory=None, \n",
    "                                            x_col='Path', \n",
    "                                            y_col=observations, \n",
    "                                            target_size= IMAGE_SIZE, \n",
    "                                            class_mode=\"other\",\n",
    "                                            batch_size=BATCH_SIZE, \n",
    "                                            shuffle=True,\n",
    "                                            interpolation='nearest')\n",
    "\n",
    "test_datagen = ImageDataGenerator(rescale=1./255)\n",
    "\n",
    "test_generator = test_datagen.flow_from_dataframe(dataframe=test_set, \n",
    "                                            directory=None, \n",
    "                                            x_col='Path', \n",
    "                                            y_col=observations, \n",
    "                                            target_size= IMAGE_SIZE, \n",
    "                                            class_mode=\"other\",\n",
    "                                            batch_size=BATCH_SIZE, \n",
    "                                            shuffle=True,\n",
    "                                            interpolation='nearest')"
   ]
  },
  {
   "cell_type": "markdown",
   "metadata": {},
   "source": [
    "## BUILDING MODEL\n",
    "### CUSTOMIZE CALLBACK"
   ]
  },
  {
   "cell_type": "code",
   "execution_count": 14,
   "metadata": {},
   "outputs": [],
   "source": [
    "class CollectBatchStats(tf.keras.callbacks.Callback):\n",
    "    def __init__(self):\n",
    "        self.batch_losses = []\n",
    "        self.batch_acc = []\n",
    "        self.batch_val_losses = []\n",
    "        self.batch_val_acc = []\n",
    "\n",
    "    def on_train_batch_end(self, batch, logs=None):\n",
    "        self.batch_losses.append(logs['loss'])\n",
    "        self.batch_acc.append(logs['accuracy'])\n",
    "#         self.model.reset_metrics()\n",
    "  \n",
    "    def on_test_batch_end(self, batch, logs=None):\n",
    "        self.batch_val_losses.append(logs['loss'])\n",
    "        self.batch_val_acc.append(logs['accuracy'])\n",
    "#         self.model.reset_metrics()"
   ]
  },
  {
   "cell_type": "code",
   "execution_count": 21,
   "metadata": {},
   "outputs": [
    {
     "name": "stdout",
     "output_type": "stream",
     "text": [
      "6284/6284 [==============================] - 3227s 514ms/step - loss: 0.3063 - accuracy: 0.8703 - AUC: 0.8857 - val_loss: 0.3154 - val_accuracy: 0.8645 - val_AUC: 0.8817\n"
     ]
    }
   ],
   "source": [
    "steps_per_epoch = tf.math.ceil(0.9 * image_count/BATCH_SIZE).numpy()\n",
    "val_steps_per_epoch = tf.math.ceil(0.1 * image_count/BATCH_SIZE).numpy()\n",
    "batch_stats_callback = CollectBatchStats() #if you keep it, the model will train again from the beginning when restart cells\n",
    "\n",
    "base_learning_rate = 0.0001\n",
    "model.compile(optimizer=tf.keras.optimizers.RMSprop(lr=base_learning_rate/10),\n",
    "              loss='binary_crossentropy',\n",
    "              metrics=[\"accuracy\",\"AUC\"])\n",
    "\n",
    "history = model.fit(train_generator, epochs=1, \n",
    "            steps_per_epoch=steps_per_epoch,\n",
    "            callbacks = [batch_stats_callback],\n",
    "            validation_data=test_generator,\n",
    "            validation_steps=val_steps_per_epoch)"
   ]
  },
  {
   "cell_type": "code",
   "execution_count": 23,
   "metadata": {},
   "outputs": [
    {
     "data": {
      "image/png": "[encoded data removed]",
      "text/plain": [
       "<Figure size 432x288 with 1 Axes>"
      ]
     },
     "metadata": {
      "needs_background": "light"
     },
     "output_type": "display_data"
    }
   ],
   "source": [
    "def plot_loss(training_losses, val_losses, x_label='Training Steps'):\n",
    "    plt.figure()\n",
    "    plt.ylabel(\"Loss\")\n",
    "    plt.xlabel(x_label)\n",
    "    \n",
    "    training_steps = len(training_losses)\n",
    "    test_steps = len(val_losses)\n",
    "    plt.plot(training_losses, label='Training Loss')\n",
    "    plt.plot(np.linspace(0, training_steps, test_steps), val_losses, label='Validation Loss')\n",
    "    plt.ylim([0,max(plt.ylim())])\n",
    "    plt.legend(loc='upper right')\n",
    "    plt.show()\n",
    "    \n",
    "plot_loss(batch_stats_callback.batch_losses, batch_stats_callback.batch_val_losses)"
   ]
  },
  {
   "cell_type": "code",
   "execution_count": 24,
   "metadata": {},
   "outputs": [
    {
     "data": {
      "image/png": "[encoded data removed]",
      "text/plain": [
       "<Figure size 432x288 with 1 Axes>"
      ]
     },
     "metadata": {
      "needs_background": "light"
     },
     "output_type": "display_data"
    }
   ],
   "source": [
    "def plot_accuracy(training_acc, val_acc, x_label='Training Steps'):\n",
    "    plt.figure()\n",
    "    plt.ylabel(\"Accuracy\")\n",
    "    plt.xlabel(x_label)\n",
    "    \n",
    "    training_steps = len(training_acc)\n",
    "    test_steps = len(val_acc)\n",
    "    plt.plot(training_acc, label='Training Accuracy')\n",
    "    plt.plot(np.linspace(0, training_steps, test_steps), val_acc, label='Validation Accuracy')\n",
    "    plt.ylim([0,1])\n",
    "    plt.legend(loc='lower right')\n",
    "    plt.show()\n",
    "    \n",
    "plot_accuracy(batch_stats_callback.batch_acc, batch_stats_callback.batch_val_acc)"
   ]
  },
  {
   "cell_type": "markdown",
   "metadata": {},
   "source": [
    "### SAVING MODEL"
   ]
  },
  {
   "cell_type": "code",
   "execution_count": 22,
   "metadata": {},
   "outputs": [],
   "source": [
    "model.save('model.h5')"
   ]
  },
  {
   "cell_type": "markdown",
   "metadata": {},
   "source": [
    "### MAKING PREDICTION"
   ]
  },
  {
   "cell_type": "code",
   "execution_count": 46,
   "metadata": {
    "scrolled": true
   },
   "outputs": [
    {
     "name": "stderr",
     "output_type": "stream",
     "text": [
      "W1002 18:17:52.069764 140439676405568 deprecation.py:506] From /home/reichu2/anaconda3/lib/python3.7/site-packages/tensorflow_core/python/ops/resource_variable_ops.py:1630: calling BaseResourceVariable.__init__ (from tensorflow.python.ops.resource_variable_ops) with constraint is deprecated and will be removed in a future version.\n",
      "Instructions for updating:\n",
      "If using Keras pass *_constraint arguments to layers.\n"
     ]
    },
    {
     "name": "stdout",
     "output_type": "stream",
     "text": [
      "Model: \"sequential\"\n",
      "_________________________________________________________________\n",
      "Layer (type)                 Output Shape              Param #   \n",
      "=================================================================\n",
      "densenet121 (Model)          (None, 7, 7, 1024)        7037504   \n",
      "_________________________________________________________________\n",
      "global_average_pooling2d (Gl (None, 1024)              0         \n",
      "_________________________________________________________________\n",
      "dropout (Dropout)            (None, 1024)              0         \n",
      "_________________________________________________________________\n",
      "flatten (Flatten)            (None, 1024)              0         \n",
      "_________________________________________________________________\n",
      "dense (Dense)                (None, 128)               131200    \n",
      "_________________________________________________________________\n",
      "dropout_1 (Dropout)          (None, 128)               0         \n",
      "_________________________________________________________________\n",
      "dense_1 (Dense)              (None, 84)                10836     \n",
      "_________________________________________________________________\n",
      "dropout_2 (Dropout)          (None, 84)                0         \n",
      "_________________________________________________________________\n",
      "dense_2 (Dense)              (None, 14)                1190      \n",
      "=================================================================\n",
      "Total params: 7,180,730\n",
      "Trainable params: 7,097,082\n",
      "Non-trainable params: 83,648\n",
      "_________________________________________________________________\n"
     ]
    }
   ],
   "source": [
    "from tensorflow.keras.models import load_model\n",
    "\n",
    "reloaded_model = load_model('model.h5')\n",
    "reloaded_model.summary()"
   ]
  },
  {
   "cell_type": "code",
   "execution_count": 14,
   "metadata": {},
   "outputs": [],
   "source": [
    "IMAGE_SIZE = (224,224)\n",
    "\n",
    "def preprocess_image(image):\n",
    "    image = tf.image.decode_jpeg(image, channels=3)\n",
    "    image = tf.image.resize(image, IMAGE_SIZE)\n",
    "    image /= 255.0  # normalize to [0,1] range\n",
    "    #image = 2*image-1  # normalize to [-1,1] range for MobileNet\n",
    "\n",
    "    return image\n",
    "\n",
    "def load_and_preprocess_image(path):\n",
    "    image = tf.io.read_file(path)\n",
    "    return preprocess_image(image)"
   ]
  },
  {
   "cell_type": "code",
   "execution_count": 12,
   "metadata": {},
   "outputs": [
    {
     "data": {
      "image/png": "[encoded data removed]",
      "text/plain": [
       "<Figure size 432x288 with 1 Axes>"
      ]
     },
     "metadata": {
      "needs_background": "light"
     },
     "output_type": "display_data"
    }
   ],
   "source": [
    "import vis\n",
    "\n",
    "img_path = 'CheXpert-v1.0-small/valid/patient64740/study1/view1_frontal.jpg'\n",
    "\n",
    "_img = tf.keras.preprocessing.image.load_img(img_path,target_size=(224,224))\n",
    "plt.imshow(_img)\n",
    "plt.show()"
   ]
  },
  {
   "cell_type": "code",
   "execution_count": 15,
   "metadata": {},
   "outputs": [],
   "source": [
    "img = load_and_preprocess_image(img_path)\n",
    "y_pred = reloaded_model.predict([[img]])"
   ]
  },
  {
   "cell_type": "code",
   "execution_count": 16,
   "metadata": {},
   "outputs": [
    {
     "data": {
      "text/plain": [
       "array([[0.02646688, 0.11636689, 0.16192326, 0.5435303 , 0.04843828,\n",
       "        0.07396001, 0.03858024, 0.01073283, 0.38122135, 0.18305379,\n",
       "        0.54414845, 0.01624384, 0.06505421, 0.41315758]], dtype=float32)"
      ]
     },
     "execution_count": 16,
     "metadata": {},
     "output_type": "execute_result"
    }
   ],
   "source": [
    "y_pred"
   ]
  },
  {
   "cell_type": "code",
   "execution_count": 17,
   "metadata": {},
   "outputs": [
    {
     "name": "stdout",
     "output_type": "stream",
     "text": [
      "Top 1 predicted class:     Pr(Class=Pleural Effusion   [index=10])=0.544\n",
      "Top 2 predicted class:     Pr(Class=Lung Opacity       [index=3])=0.544\n",
      "Top 3 predicted class:     Pr(Class=Support Devices    [index=13])=0.413\n",
      "Top 4 predicted class:     Pr(Class=Atelectasis        [index=8])=0.381\n",
      "Top 5 predicted class:     Pr(Class=Pneumothorax       [index=9])=0.183\n"
     ]
    }
   ],
   "source": [
    "observations = ['No Finding','Enlarged Cardiomediastinum', 'Cardiomegaly', 'Lung Opacity','Lung Lesion', \n",
    "                 'Edema', 'Consolidation', 'Pneumonia', 'Atelectasis','Pneumothorax', 'Pleural Effusion', \n",
    "                 'Pleural Other', 'Fracture','Support Devices']\n",
    "class_idxs_sorted = np.argsort(y_pred.flatten())[::-1]\n",
    "topNclass         = 5\n",
    "for i, idx in enumerate(class_idxs_sorted[:topNclass]):\n",
    "    print(\"Top {} predicted class:     Pr(Class={:18} [index={}])={:5.3f}\".format(\n",
    "          i + 1,observations[idx],idx,y_pred[0,idx]))"
   ]
  }
 ],
 "metadata": {
  "kernelspec": {
   "display_name": "Python 3",
   "language": "python",
   "name": "python3"
  },
  "language_info": {
   "codemirror_mode": {
    "name": "ipython",
    "version": 3
   },
   "file_extension": ".py",
   "mimetype": "text/x-python",
   "name": "python",
   "nbconvert_exporter": "python",
   "pygments_lexer": "ipython3",
   "version": "3.7.6"
  }
 },
 "nbformat": 4,
 "nbformat_minor": 4
}
